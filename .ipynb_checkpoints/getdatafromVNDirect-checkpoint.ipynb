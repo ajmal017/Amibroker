{
 "cells": [
  {
   "cell_type": "code",
   "execution_count": 24,
   "metadata": {},
   "outputs": [],
   "source": [
    "from datetime import datetime\n",
    "import pandas as pd\n",
    "import numpy as np\n",
    "from selenium import webdriver\n",
    "from selenium.webdriver.chrome.options import Options\n",
    "from selenium.webdriver.common.by import By\n",
    "from selenium.webdriver.common.keys import Keys\n",
    "from selenium.webdriver.support.ui import WebDriverWait\n",
    "from selenium.webdriver.support.expected_conditions import presence_of_element_located\n",
    "import time"
   ]
  },
  {
   "cell_type": "code",
   "execution_count": 25,
   "metadata": {},
   "outputs": [],
   "source": [
    "chrome_driver_path = 'D:\\python\\selenium\\driver\\chromedriver.exe'\n",
    "chrome_options = Options()\n",
    "#chrome_options.page_load_strategy\n",
    "#chrome_options.add_argument('--headless')\n",
    "chrome_options.add_argument('--user-data-dir=C:\\\\Users\\\\hung-pro7\\\\AppData\\\\Local\\\\Google\\\\Chrome\\\\User Data\\\\Default\\\\Default')\n",
    "webdriver = webdriver.Chrome(executable_path=chrome_driver_path, options=chrome_options)\n",
    "url = 'https://trade-hcm.vndirect.com.vn/chung-khoan/hose'\n",
    "webdriver.get(url)\n",
    "webdriver.find_element_by_xpath('//*[@id=\"menuWrp\"]/div/a[2]').click()  \n",
    "time.sleep(2)\n",
    "webdriver.find_element_by_xpath('//*[@id=\"login-popup\"]/form/div[1]/div/input').send_keys(\"tuanhungstar\")\n",
    "webdriver.find_element_by_xpath('//*[@id=\"login-popup\"]/form/div[2]/div/input').send_keys(\"Khanhha-1\")\n",
    "webdriver.find_element_by_xpath('//*[@id=\"login-popup\"]/form/button').click()\n",
    "time.sleep(2)\n",
    "webdriver.find_element_by_xpath('//*[@id=\"nav\"]/ul[1]/li[2]/a/span').click()\n",
    "time.sleep(2)"
   ]
  },
  {
   "cell_type": "code",
   "execution_count": 26,
   "metadata": {},
   "outputs": [],
   "source": [
    "HOSE_table = webdriver.find_element_by_xpath('//*[@id=\"banggia-khop-lenh-body\"]').find_elements_by_tag_name('tr')"
   ]
  },
  {
   "cell_type": "code",
   "execution_count": 27,
   "metadata": {},
   "outputs": [],
   "source": [
    "HOSE_ticker=[]\n",
    "for row in HOSE_table:\n",
    "    text = row.text.split(' ')\n",
    "    HOSE_ticker.append(text[0])\n",
    "    "
   ]
  },
  {
   "cell_type": "code",
   "execution_count": 28,
   "metadata": {},
   "outputs": [
    {
     "data": {
      "text/plain": [
       "['MBB',\n",
       " 'SSI',\n",
       " 'AAA',\n",
       " 'VRE',\n",
       " 'CTG',\n",
       " 'ANV',\n",
       " 'HCM',\n",
       " 'BVH',\n",
       " 'DXG',\n",
       " 'BID',\n",
       " 'FCN',\n",
       " 'CVT\\n15.30',\n",
       " 'VND',\n",
       " 'GAS',\n",
       " 'ACB',\n",
       " 'CTD',\n",
       " 'HBC',\n",
       " 'PVS',\n",
       " 'PVD',\n",
       " 'BVS',\n",
       " 'DGW',\n",
       " 'DHG',\n",
       " 'EIB',\n",
       " 'BSR',\n",
       " 'KDH',\n",
       " 'FPT',\n",
       " 'KDC',\n",
       " 'GMD',\n",
       " 'HSG',\n",
       " 'HPG',\n",
       " 'FMC',\n",
       " 'MSN',\n",
       " 'MWG',\n",
       " 'LSS',\n",
       " 'PDR',\n",
       " 'NVL',\n",
       " 'PLX',\n",
       " 'REE',\n",
       " 'NKG',\n",
       " 'PVT',\n",
       " 'SBT',\n",
       " 'PNJ',\n",
       " 'SHB',\n",
       " 'SLS',\n",
       " 'SRA',\n",
       " 'STB',\n",
       " 'TCM',\n",
       " 'TDH',\n",
       " 'VHM',\n",
       " 'VCS',\n",
       " 'HVN',\n",
       " 'VIC',\n",
       " 'VPB',\n",
       " 'VNM',\n",
       " 'VHC',\n",
       " 'FLC',\n",
       " 'DIG',\n",
       " 'PVB',\n",
       " 'TCH',\n",
       " 'BSI',\n",
       " 'YEG',\n",
       " 'DPM',\n",
       " 'DCM',\n",
       " 'ROS',\n",
       " 'FTM',\n",
       " 'TNG',\n",
       " 'MML',\n",
       " 'VCB',\n",
       " 'SAB',\n",
       " 'LDG',\n",
       " 'HAG',\n",
       " 'HNG']"
      ]
     },
     "execution_count": 28,
     "metadata": {},
     "output_type": "execute_result"
    }
   ],
   "source": [
    "HOSE_ticker"
   ]
  },
  {
   "cell_type": "code",
   "execution_count": 29,
   "metadata": {},
   "outputs": [
    {
     "data": {
      "text/plain": [
       "72"
      ]
     },
     "execution_count": 29,
     "metadata": {},
     "output_type": "execute_result"
    }
   ],
   "source": [
    "len(HOSE_table)"
   ]
  },
  {
   "cell_type": "code",
   "execution_count": null,
   "metadata": {},
   "outputs": [],
   "source": []
  }
 ],
 "metadata": {
  "kernelspec": {
   "display_name": "Python 3",
   "language": "python",
   "name": "python3"
  },
  "language_info": {
   "codemirror_mode": {
    "name": "ipython",
    "version": 3
   },
   "file_extension": ".py",
   "mimetype": "text/x-python",
   "name": "python",
   "nbconvert_exporter": "python",
   "pygments_lexer": "ipython3",
   "version": "3.7.6"
  }
 },
 "nbformat": 4,
 "nbformat_minor": 4
}
